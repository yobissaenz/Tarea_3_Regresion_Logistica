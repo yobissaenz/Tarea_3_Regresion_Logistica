{
 "cells": [
  {
   "cell_type": "code",
   "execution_count": 106,
   "metadata": {},
   "outputs": [],
   "source": [
    "# Librerias utilizadas en el proyecto\n",
    "\n",
    "import pandas as pd \n",
    "import numpy as np \n",
    "import seaborn as sns \n",
    "import matplotlib.pyplot as plt\n",
    "from sklearn import metrics\n",
    "from sklearn.model_selection import train_test_split\n",
    "from sklearn.linear_model import LogisticRegression\n",
    "from sklearn.metrics import classification_report, confusion_matrix\n",
    "from sklearn.metrics import RocCurveDisplay"
   ]
  },
  {
   "cell_type": "code",
   "execution_count": 107,
   "metadata": {},
   "outputs": [
    {
     "data": {
      "text/html": [
       "<div>\n",
       "<style scoped>\n",
       "    .dataframe tbody tr th:only-of-type {\n",
       "        vertical-align: middle;\n",
       "    }\n",
       "\n",
       "    .dataframe tbody tr th {\n",
       "        vertical-align: top;\n",
       "    }\n",
       "\n",
       "    .dataframe thead th {\n",
       "        text-align: right;\n",
       "    }\n",
       "</style>\n",
       "<table border=\"1\" class=\"dataframe\">\n",
       "  <thead>\n",
       "    <tr style=\"text-align: right;\">\n",
       "      <th></th>\n",
       "      <th>Edad</th>\n",
       "      <th>Sexo</th>\n",
       "      <th>Tipo de dolor en el pecho</th>\n",
       "      <th>Presion arterial en reposo</th>\n",
       "      <th>Colesterol total</th>\n",
       "      <th>Azucar en sangre</th>\n",
       "      <th>Resultado electrocardiograma</th>\n",
       "      <th>Ritmo cardiaco maximo</th>\n",
       "      <th>Angina por ejercicio</th>\n",
       "      <th>Depresion</th>\n",
       "      <th>Pendiente test de depresion</th>\n",
       "      <th>Numero de vasos principales</th>\n",
       "      <th>Talasemia</th>\n",
       "      <th>Diagnostico  enfermedad cardiaca</th>\n",
       "    </tr>\n",
       "  </thead>\n",
       "  <tbody>\n",
       "    <tr>\n",
       "      <th>0</th>\n",
       "      <td>69</td>\n",
       "      <td>1</td>\n",
       "      <td>0</td>\n",
       "      <td>160</td>\n",
       "      <td>234</td>\n",
       "      <td>1</td>\n",
       "      <td>2</td>\n",
       "      <td>131</td>\n",
       "      <td>0</td>\n",
       "      <td>0.1</td>\n",
       "      <td>1</td>\n",
       "      <td>1</td>\n",
       "      <td>0</td>\n",
       "      <td>0</td>\n",
       "    </tr>\n",
       "    <tr>\n",
       "      <th>1</th>\n",
       "      <td>69</td>\n",
       "      <td>0</td>\n",
       "      <td>0</td>\n",
       "      <td>140</td>\n",
       "      <td>239</td>\n",
       "      <td>0</td>\n",
       "      <td>0</td>\n",
       "      <td>151</td>\n",
       "      <td>0</td>\n",
       "      <td>1.8</td>\n",
       "      <td>0</td>\n",
       "      <td>2</td>\n",
       "      <td>0</td>\n",
       "      <td>0</td>\n",
       "    </tr>\n",
       "    <tr>\n",
       "      <th>2</th>\n",
       "      <td>66</td>\n",
       "      <td>0</td>\n",
       "      <td>0</td>\n",
       "      <td>150</td>\n",
       "      <td>226</td>\n",
       "      <td>0</td>\n",
       "      <td>0</td>\n",
       "      <td>114</td>\n",
       "      <td>0</td>\n",
       "      <td>2.6</td>\n",
       "      <td>2</td>\n",
       "      <td>0</td>\n",
       "      <td>0</td>\n",
       "      <td>0</td>\n",
       "    </tr>\n",
       "    <tr>\n",
       "      <th>3</th>\n",
       "      <td>65</td>\n",
       "      <td>1</td>\n",
       "      <td>0</td>\n",
       "      <td>138</td>\n",
       "      <td>282</td>\n",
       "      <td>1</td>\n",
       "      <td>2</td>\n",
       "      <td>174</td>\n",
       "      <td>0</td>\n",
       "      <td>1.4</td>\n",
       "      <td>1</td>\n",
       "      <td>1</td>\n",
       "      <td>0</td>\n",
       "      <td>1</td>\n",
       "    </tr>\n",
       "    <tr>\n",
       "      <th>4</th>\n",
       "      <td>64</td>\n",
       "      <td>1</td>\n",
       "      <td>0</td>\n",
       "      <td>110</td>\n",
       "      <td>211</td>\n",
       "      <td>0</td>\n",
       "      <td>2</td>\n",
       "      <td>144</td>\n",
       "      <td>1</td>\n",
       "      <td>1.8</td>\n",
       "      <td>1</td>\n",
       "      <td>0</td>\n",
       "      <td>0</td>\n",
       "      <td>0</td>\n",
       "    </tr>\n",
       "  </tbody>\n",
       "</table>\n",
       "</div>"
      ],
      "text/plain": [
       "   Edad  Sexo  Tipo de dolor en el pecho  Presion arterial en reposo  \\\n",
       "0    69     1                          0                         160   \n",
       "1    69     0                          0                         140   \n",
       "2    66     0                          0                         150   \n",
       "3    65     1                          0                         138   \n",
       "4    64     1                          0                         110   \n",
       "\n",
       "   Colesterol total  Azucar en sangre  Resultado electrocardiograma  \\\n",
       "0               234                 1                             2   \n",
       "1               239                 0                             0   \n",
       "2               226                 0                             0   \n",
       "3               282                 1                             2   \n",
       "4               211                 0                             2   \n",
       "\n",
       "   Ritmo cardiaco maximo  Angina por ejercicio  Depresion  \\\n",
       "0                    131                     0        0.1   \n",
       "1                    151                     0        1.8   \n",
       "2                    114                     0        2.6   \n",
       "3                    174                     0        1.4   \n",
       "4                    144                     1        1.8   \n",
       "\n",
       "   Pendiente test de depresion  Numero de vasos principales   Talasemia  \\\n",
       "0                            1                             1          0   \n",
       "1                            0                             2          0   \n",
       "2                            2                             0          0   \n",
       "3                            1                             1          0   \n",
       "4                            1                             0          0   \n",
       "\n",
       "   Diagnostico  enfermedad cardiaca  \n",
       "0                                 0  \n",
       "1                                 0  \n",
       "2                                 0  \n",
       "3                                 1  \n",
       "4                                 0  "
      ]
     },
     "execution_count": 107,
     "metadata": {},
     "output_type": "execute_result"
    }
   ],
   "source": [
    "BD = pd.read_csv('./uci.csv') # Se carga la base segun como la haya guardado \n",
    "BD.head(5)"
   ]
  },
  {
   "cell_type": "code",
   "execution_count": 108,
   "metadata": {},
   "outputs": [
    {
     "data": {
      "text/html": [
       "<div>\n",
       "<style scoped>\n",
       "    .dataframe tbody tr th:only-of-type {\n",
       "        vertical-align: middle;\n",
       "    }\n",
       "\n",
       "    .dataframe tbody tr th {\n",
       "        vertical-align: top;\n",
       "    }\n",
       "\n",
       "    .dataframe thead th {\n",
       "        text-align: right;\n",
       "    }\n",
       "</style>\n",
       "<table border=\"1\" class=\"dataframe\">\n",
       "  <thead>\n",
       "    <tr style=\"text-align: right;\">\n",
       "      <th></th>\n",
       "      <th>Edad</th>\n",
       "      <th>Sexo</th>\n",
       "      <th>Tipo de dolor en el pecho</th>\n",
       "      <th>Presion arterial en reposo</th>\n",
       "      <th>Colesterol total</th>\n",
       "      <th>Azucar en sangre</th>\n",
       "      <th>Resultado electrocardiograma</th>\n",
       "      <th>Ritmo cardiaco maximo</th>\n",
       "      <th>Angina por ejercicio</th>\n",
       "      <th>Depresion</th>\n",
       "      <th>Pendiente test de depresion</th>\n",
       "      <th>Numero de vasos principales</th>\n",
       "      <th>Talasemia</th>\n",
       "      <th>Diagnostico  enfermedad cardiaca</th>\n",
       "    </tr>\n",
       "  </thead>\n",
       "  <tbody>\n",
       "    <tr>\n",
       "      <th>count</th>\n",
       "      <td>297.000000</td>\n",
       "      <td>297.000000</td>\n",
       "      <td>297.000000</td>\n",
       "      <td>297.000000</td>\n",
       "      <td>297.000000</td>\n",
       "      <td>297.000000</td>\n",
       "      <td>297.000000</td>\n",
       "      <td>297.000000</td>\n",
       "      <td>297.000000</td>\n",
       "      <td>297.000000</td>\n",
       "      <td>297.000000</td>\n",
       "      <td>297.000000</td>\n",
       "      <td>297.000000</td>\n",
       "      <td>297.000000</td>\n",
       "    </tr>\n",
       "    <tr>\n",
       "      <th>mean</th>\n",
       "      <td>54.542088</td>\n",
       "      <td>0.676768</td>\n",
       "      <td>2.158249</td>\n",
       "      <td>131.693603</td>\n",
       "      <td>247.350168</td>\n",
       "      <td>0.144781</td>\n",
       "      <td>0.996633</td>\n",
       "      <td>149.599327</td>\n",
       "      <td>0.326599</td>\n",
       "      <td>1.055556</td>\n",
       "      <td>0.602694</td>\n",
       "      <td>0.676768</td>\n",
       "      <td>0.835017</td>\n",
       "      <td>0.461279</td>\n",
       "    </tr>\n",
       "    <tr>\n",
       "      <th>std</th>\n",
       "      <td>9.049736</td>\n",
       "      <td>0.468500</td>\n",
       "      <td>0.964859</td>\n",
       "      <td>17.762806</td>\n",
       "      <td>51.997583</td>\n",
       "      <td>0.352474</td>\n",
       "      <td>0.994914</td>\n",
       "      <td>22.941562</td>\n",
       "      <td>0.469761</td>\n",
       "      <td>1.166123</td>\n",
       "      <td>0.618187</td>\n",
       "      <td>0.938965</td>\n",
       "      <td>0.956690</td>\n",
       "      <td>0.499340</td>\n",
       "    </tr>\n",
       "    <tr>\n",
       "      <th>min</th>\n",
       "      <td>29.000000</td>\n",
       "      <td>0.000000</td>\n",
       "      <td>0.000000</td>\n",
       "      <td>94.000000</td>\n",
       "      <td>126.000000</td>\n",
       "      <td>0.000000</td>\n",
       "      <td>0.000000</td>\n",
       "      <td>71.000000</td>\n",
       "      <td>0.000000</td>\n",
       "      <td>0.000000</td>\n",
       "      <td>0.000000</td>\n",
       "      <td>0.000000</td>\n",
       "      <td>0.000000</td>\n",
       "      <td>0.000000</td>\n",
       "    </tr>\n",
       "    <tr>\n",
       "      <th>25%</th>\n",
       "      <td>48.000000</td>\n",
       "      <td>0.000000</td>\n",
       "      <td>2.000000</td>\n",
       "      <td>120.000000</td>\n",
       "      <td>211.000000</td>\n",
       "      <td>0.000000</td>\n",
       "      <td>0.000000</td>\n",
       "      <td>133.000000</td>\n",
       "      <td>0.000000</td>\n",
       "      <td>0.000000</td>\n",
       "      <td>0.000000</td>\n",
       "      <td>0.000000</td>\n",
       "      <td>0.000000</td>\n",
       "      <td>0.000000</td>\n",
       "    </tr>\n",
       "    <tr>\n",
       "      <th>50%</th>\n",
       "      <td>56.000000</td>\n",
       "      <td>1.000000</td>\n",
       "      <td>2.000000</td>\n",
       "      <td>130.000000</td>\n",
       "      <td>243.000000</td>\n",
       "      <td>0.000000</td>\n",
       "      <td>1.000000</td>\n",
       "      <td>153.000000</td>\n",
       "      <td>0.000000</td>\n",
       "      <td>0.800000</td>\n",
       "      <td>1.000000</td>\n",
       "      <td>0.000000</td>\n",
       "      <td>0.000000</td>\n",
       "      <td>0.000000</td>\n",
       "    </tr>\n",
       "    <tr>\n",
       "      <th>75%</th>\n",
       "      <td>61.000000</td>\n",
       "      <td>1.000000</td>\n",
       "      <td>3.000000</td>\n",
       "      <td>140.000000</td>\n",
       "      <td>276.000000</td>\n",
       "      <td>0.000000</td>\n",
       "      <td>2.000000</td>\n",
       "      <td>166.000000</td>\n",
       "      <td>1.000000</td>\n",
       "      <td>1.600000</td>\n",
       "      <td>1.000000</td>\n",
       "      <td>1.000000</td>\n",
       "      <td>2.000000</td>\n",
       "      <td>1.000000</td>\n",
       "    </tr>\n",
       "    <tr>\n",
       "      <th>max</th>\n",
       "      <td>77.000000</td>\n",
       "      <td>1.000000</td>\n",
       "      <td>3.000000</td>\n",
       "      <td>200.000000</td>\n",
       "      <td>564.000000</td>\n",
       "      <td>1.000000</td>\n",
       "      <td>2.000000</td>\n",
       "      <td>202.000000</td>\n",
       "      <td>1.000000</td>\n",
       "      <td>6.200000</td>\n",
       "      <td>2.000000</td>\n",
       "      <td>3.000000</td>\n",
       "      <td>2.000000</td>\n",
       "      <td>1.000000</td>\n",
       "    </tr>\n",
       "  </tbody>\n",
       "</table>\n",
       "</div>"
      ],
      "text/plain": [
       "             Edad        Sexo  Tipo de dolor en el pecho  \\\n",
       "count  297.000000  297.000000                 297.000000   \n",
       "mean    54.542088    0.676768                   2.158249   \n",
       "std      9.049736    0.468500                   0.964859   \n",
       "min     29.000000    0.000000                   0.000000   \n",
       "25%     48.000000    0.000000                   2.000000   \n",
       "50%     56.000000    1.000000                   2.000000   \n",
       "75%     61.000000    1.000000                   3.000000   \n",
       "max     77.000000    1.000000                   3.000000   \n",
       "\n",
       "       Presion arterial en reposo  Colesterol total  Azucar en sangre  \\\n",
       "count                  297.000000        297.000000        297.000000   \n",
       "mean                   131.693603        247.350168          0.144781   \n",
       "std                     17.762806         51.997583          0.352474   \n",
       "min                     94.000000        126.000000          0.000000   \n",
       "25%                    120.000000        211.000000          0.000000   \n",
       "50%                    130.000000        243.000000          0.000000   \n",
       "75%                    140.000000        276.000000          0.000000   \n",
       "max                    200.000000        564.000000          1.000000   \n",
       "\n",
       "       Resultado electrocardiograma  Ritmo cardiaco maximo  \\\n",
       "count                    297.000000             297.000000   \n",
       "mean                       0.996633             149.599327   \n",
       "std                        0.994914              22.941562   \n",
       "min                        0.000000              71.000000   \n",
       "25%                        0.000000             133.000000   \n",
       "50%                        1.000000             153.000000   \n",
       "75%                        2.000000             166.000000   \n",
       "max                        2.000000             202.000000   \n",
       "\n",
       "       Angina por ejercicio   Depresion  Pendiente test de depresion  \\\n",
       "count            297.000000  297.000000                   297.000000   \n",
       "mean               0.326599    1.055556                     0.602694   \n",
       "std                0.469761    1.166123                     0.618187   \n",
       "min                0.000000    0.000000                     0.000000   \n",
       "25%                0.000000    0.000000                     0.000000   \n",
       "50%                0.000000    0.800000                     1.000000   \n",
       "75%                1.000000    1.600000                     1.000000   \n",
       "max                1.000000    6.200000                     2.000000   \n",
       "\n",
       "       Numero de vasos principales    Talasemia  \\\n",
       "count                    297.000000  297.000000   \n",
       "mean                       0.676768    0.835017   \n",
       "std                        0.938965    0.956690   \n",
       "min                        0.000000    0.000000   \n",
       "25%                        0.000000    0.000000   \n",
       "50%                        0.000000    0.000000   \n",
       "75%                        1.000000    2.000000   \n",
       "max                        3.000000    2.000000   \n",
       "\n",
       "       Diagnostico  enfermedad cardiaca  \n",
       "count                        297.000000  \n",
       "mean                           0.461279  \n",
       "std                            0.499340  \n",
       "min                            0.000000  \n",
       "25%                            0.000000  \n",
       "50%                            0.000000  \n",
       "75%                            1.000000  \n",
       "max                            1.000000  "
      ]
     },
     "execution_count": 108,
     "metadata": {},
     "output_type": "execute_result"
    }
   ],
   "source": [
    "# Observamos los estadisticos descriptivos de la base de datos\n",
    "BD.describe()"
   ]
  },
  {
   "cell_type": "code",
   "execution_count": 109,
   "metadata": {},
   "outputs": [
    {
     "name": "stdout",
     "output_type": "stream",
     "text": [
      "Cantidad de Registros con cero en Resultado electrocardiograma:  147\n",
      "Cantidad de Registros con cero en Depresion:  96\n",
      "Cantidad de Registros con cero en Pendiente test de depresion:  139\n",
      "Cantidad de Registros con cero en Numero de vasos principales:  174\n",
      "Cantidad de Registros con cero en Talasemia:  164\n"
     ]
    },
    {
     "data": {
      "image/png": "[encoded data removed]",
      "text/plain": [
       "<Figure size 600x300 with 1 Axes>"
      ]
     },
     "metadata": {},
     "output_type": "display_data"
    }
   ],
   "source": [
    "# Creamos una figura\n",
    "plt.figure(figsize=(6, 3))\n",
    "\n",
    "# Creamos un grafico de caja para ver la distribucion del colesterol\n",
    "sns.boxplot(x=BD['Colesterol total'])\n",
    "plt.title('Identificacion de Datos Faltantes y Atipicos', fontsize=10 )\n",
    "\n",
    "# Observamos la cantidad de registros con cero resultados\n",
    "print(\"Cantidad de Registros con cero en Resultado electrocardiograma: \",BD['Resultado electrocardiograma'].isin([0]).sum())\n",
    "print(\"Cantidad de Registros con cero en Depresion: \",BD['Depresion'].isin([0]).sum())\n",
    "print(\"Cantidad de Registros con cero en Pendiente test de depresion: \",BD['Pendiente test de depresion'].isin([0]).sum())\n",
    "print(\"Cantidad de Registros con cero en Numero de vasos principales: \",BD['Numero de vasos principales '].isin([0]).sum())\n",
    "print(\"Cantidad de Registros con cero en Talasemia: \",BD['Talasemia'].isin([0]).sum())"
   ]
  },
  {
   "cell_type": "code",
   "execution_count": 110,
   "metadata": {},
   "outputs": [
    {
     "name": "stdout",
     "output_type": "stream",
     "text": [
      "Cantidad de Registros con cero en Resultado electrocardiograma:  0\n",
      "Cantidad de Registros con cero en Depresion:  0\n",
      "Cantidad de Registros con cero en Pendiente test de depresion:  0\n",
      "Cantidad de Registros con cero en Numero de vasos principales:  0\n",
      "Cantidad de Registros con cero en Talasemia:  0\n"
     ]
    }
   ],
   "source": [
    "# Reemplazamos los valores en 0 por la media de cada columna\n",
    "BD['Resultado electrocardiograma']= BD['Resultado electrocardiograma'].replace(0,BD['Resultado electrocardiograma'].mean())\n",
    "BD['Depresion']=BD['Depresion'].replace(0,BD['Depresion'].mean())\n",
    "BD['Pendiente test de depresion']=BD['Pendiente test de depresion'].replace(0,BD['Pendiente test de depresion'].mean())\n",
    "BD['Numero de vasos principales ']=BD['Numero de vasos principales '].replace(0,BD['Numero de vasos principales '].mean())\n",
    "BD['Talasemia']=BD['Talasemia'].replace(0,BD['Talasemia'].mean())\n",
    "\n",
    "# Observamos que ya no hay ningun valor en 0 en las columnas de la base de datos\n",
    "print(\"Cantidad de Registros con cero en Resultado electrocardiograma: \",BD['Resultado electrocardiograma'].isin([0]).sum())\n",
    "print(\"Cantidad de Registros con cero en Depresion: \",BD['Depresion'].isin([0]).sum())\n",
    "print(\"Cantidad de Registros con cero en Pendiente test de depresion: \",BD['Pendiente test de depresion'].isin([0]).sum())\n",
    "print(\"Cantidad de Registros con cero en Numero de vasos principales: \",BD['Numero de vasos principales '].isin([0]).sum())\n",
    "print(\"Cantidad de Registros con cero en Talasemia: \",BD['Talasemia'].isin([0]).sum())"
   ]
  },
  {
   "cell_type": "code",
   "execution_count": 111,
   "metadata": {},
   "outputs": [
    {
     "data": {
      "text/plain": [
       "Text(0.5, 1.0, 'Identificacion de Datos Atipicos')"
      ]
     },
     "execution_count": 111,
     "metadata": {},
     "output_type": "execute_result"
    },
    {
     "data": {
      "image/png": "[encoded data removed]",
      "text/plain": [
       "<Figure size 600x300 with 1 Axes>"
      ]
     },
     "metadata": {},
     "output_type": "display_data"
    }
   ],
   "source": [
    "# Creamos un grafico para observar la distribucion de la variable Ritmo cardiaco maximo\n",
    "plt.figure(figsize=(6, 3))\n",
    "sns.boxplot(x=BD['Ritmo cardiaco maximo'])\n",
    "plt.title('Identificacion de Datos Atipicos', fontsize=10 )"
   ]
  },
  {
   "cell_type": "code",
   "execution_count": 112,
   "metadata": {},
   "outputs": [
    {
     "name": "stdout",
     "output_type": "stream",
     "text": [
      "El total de datos atipicos es 9\n"
     ]
    }
   ],
   "source": [
    "# Observamos la cantidad de datos atipicos en la variable Ritmo cardiaco maximo\n",
    "nivel_minimo=100\n",
    "nivel_maximo=200\n",
    "Total_Atipicos=((BD['Ritmo cardiaco maximo']<nivel_minimo)|(BD['Ritmo cardiaco maximo']>nivel_maximo)).sum()\n",
    "print(\"El total de datos atipicos es {}\".format(Total_Atipicos))"
   ]
  },
  {
   "cell_type": "code",
   "execution_count": 113,
   "metadata": {},
   "outputs": [],
   "source": [
    "# Eliminamos los datos atipicos\n",
    "BD=BD[(BD['Ritmo cardiaco maximo']<nivel_maximo)&(BD['Ritmo cardiaco maximo']>nivel_minimo)]"
   ]
  },
  {
   "cell_type": "code",
   "execution_count": 114,
   "metadata": {},
   "outputs": [
    {
     "name": "stdout",
     "output_type": "stream",
     "text": [
      "El total de datos atipicos es 0\n"
     ]
    }
   ],
   "source": [
    "# Observamos la cantidad de datos atipicos en la variable Ritmo cardiaco maximo\n",
    "Total_Atipicos=((BD['Ritmo cardiaco maximo']<nivel_minimo)|(BD['Ritmo cardiaco maximo']>nivel_maximo)).sum()\n",
    "print(\"El total de datos atipicos es {}\".format(Total_Atipicos))"
   ]
  },
  {
   "cell_type": "code",
   "execution_count": 115,
   "metadata": {},
   "outputs": [
    {
     "name": "stdout",
     "output_type": "stream",
     "text": [
      "<class 'pandas.core.frame.DataFrame'>\n",
      "Index: 288 entries, 0 to 296\n",
      "Data columns (total 14 columns):\n",
      " #   Column                            Non-Null Count  Dtype  \n",
      "---  ------                            --------------  -----  \n",
      " 0   Edad                              288 non-null    int64  \n",
      " 1   Sexo                              288 non-null    int64  \n",
      " 2   Tipo de dolor en el pecho         288 non-null    int64  \n",
      " 3   Presion arterial en reposo        288 non-null    int64  \n",
      " 4   Colesterol total                  288 non-null    int64  \n",
      " 5   Azucar en sangre                  288 non-null    int64  \n",
      " 6   Resultado electrocardiograma      288 non-null    float64\n",
      " 7   Ritmo cardiaco maximo             288 non-null    int64  \n",
      " 8   Angina por ejercicio              288 non-null    int64  \n",
      " 9   Depresion                         288 non-null    float64\n",
      " 10  Pendiente test de depresion       288 non-null    float64\n",
      " 11  Numero de vasos principales       288 non-null    float64\n",
      " 12  Talasemia                         288 non-null    float64\n",
      " 13  Diagnostico  enfermedad cardiaca  288 non-null    int64  \n",
      "dtypes: float64(5), int64(9)\n",
      "memory usage: 33.8 KB\n"
     ]
    }
   ],
   "source": [
    "# Observamos la informacion de la base de datos\n",
    "BD.info()"
   ]
  },
  {
   "cell_type": "code",
   "execution_count": 116,
   "metadata": {},
   "outputs": [
    {
     "data": {
      "text/plain": [
       "Diagnostico  enfermedad cardiaca\n",
       "0    158\n",
       "1    130\n",
       "Name: count, dtype: int64"
      ]
     },
     "execution_count": 116,
     "metadata": {},
     "output_type": "execute_result"
    }
   ],
   "source": [
    "# Realizamos un conteo de cada valor de la variable Diagnostico enfermedad cardiaca\n",
    "BD['Diagnostico  enfermedad cardiaca'].value_counts()"
   ]
  },
  {
   "cell_type": "code",
   "execution_count": 117,
   "metadata": {},
   "outputs": [
    {
     "name": "stdout",
     "output_type": "stream",
     "text": [
      "     Edad  Sexo  Tipo de dolor en el pecho  Presion arterial en reposo  \\\n",
      "131    48     1                          2                         124   \n",
      "142    43     0                          2                         122   \n",
      "244    54     1                          3                         124   \n",
      "26     66     1                          1                         160   \n",
      "54     46     1                          1                         101   \n",
      "..    ...   ...                        ...                         ...   \n",
      "172    65     1                          3                         120   \n",
      "267    48     1                          3                         124   \n",
      "180    63     0                          3                         150   \n",
      "277    45     1                          3                         142   \n",
      "233    57     1                          3                         132   \n",
      "\n",
      "     Colesterol total  Azucar en sangre  Resultado electrocardiograma  \\\n",
      "131               255                 1                      0.996633   \n",
      "142               213                 0                      0.996633   \n",
      "244               266                 0                      2.000000   \n",
      "26                246                 0                      0.996633   \n",
      "54                197                 1                      0.996633   \n",
      "..                ...               ...                           ...   \n",
      "172               177                 0                      0.996633   \n",
      "267               274                 0                      2.000000   \n",
      "180               407                 0                      2.000000   \n",
      "277               309                 0                      2.000000   \n",
      "233               207                 0                      0.996633   \n",
      "\n",
      "     Ritmo cardiaco maximo  Angina por ejercicio  Depresion  \\\n",
      "131                    175                     0   1.055556   \n",
      "142                    165                     0   0.200000   \n",
      "244                    109                     1   2.200000   \n",
      "26                     120                     1   1.055556   \n",
      "54                     156                     0   1.055556   \n",
      "..                     ...                   ...        ...   \n",
      "172                    140                     0   0.400000   \n",
      "267                    166                     0   0.500000   \n",
      "180                    154                     0   4.000000   \n",
      "277                    147                     1   1.055556   \n",
      "233                    168                     1   1.055556   \n",
      "\n",
      "     Pendiente test de depresion  Numero de vasos principales   Talasemia  \n",
      "131                     0.602694                      2.000000   0.835017  \n",
      "142                     1.000000                      0.676768   0.835017  \n",
      "244                     1.000000                      1.000000   2.000000  \n",
      "26                      1.000000                      3.000000   1.000000  \n",
      "54                      0.602694                      0.676768   2.000000  \n",
      "..                           ...                           ...        ...  \n",
      "172                     0.602694                      0.676768   2.000000  \n",
      "267                     1.000000                      0.676768   2.000000  \n",
      "180                     1.000000                      3.000000   2.000000  \n",
      "277                     1.000000                      3.000000   2.000000  \n",
      "233                     0.602694                      0.676768   2.000000  \n",
      "\n",
      "[216 rows x 13 columns]\n"
     ]
    }
   ],
   "source": [
    "# Definimos cual es la variable dependiente y el conjunto de caracteristicas\n",
    "X = BD.drop('Diagnostico  enfermedad cardiaca',axis=1) \n",
    "Y = BD['Diagnostico  enfermedad cardiaca'] \n",
    "\n",
    "# Dividimos la base de datos en entrenamiento y prueba\n",
    "X_train, X_test, Y_train, Y_test = train_test_split(X, Y, test_size=0.25, stratify=Y, random_state= 0)\n",
    "\n",
    "# Imprimimos el conjunto de caracteristicas de entrenamiento\n",
    "print (X_train)"
   ]
  },
  {
   "cell_type": "code",
   "execution_count": 118,
   "metadata": {},
   "outputs": [
    {
     "name": "stdout",
     "output_type": "stream",
     "text": [
      "131    0\n",
      "142    0\n",
      "244    1\n",
      "26     1\n",
      "54     0\n",
      "      ..\n",
      "172    0\n",
      "267    1\n",
      "180    1\n",
      "277    1\n",
      "233    0\n",
      "Name: Diagnostico  enfermedad cardiaca, Length: 216, dtype: int64\n"
     ]
    }
   ],
   "source": [
    "# Imprimimos los datos de la variable dependiente de entrenamiento\n",
    "print(Y_train)"
   ]
  },
  {
   "cell_type": "code",
   "execution_count": 119,
   "metadata": {},
   "outputs": [
    {
     "name": "stdout",
     "output_type": "stream",
     "text": [
      "276    0\n",
      "119    0\n",
      "253    0\n",
      "220    1\n",
      "285    0\n",
      "      ..\n",
      "74     1\n",
      "139    0\n",
      "110    0\n",
      "224    1\n",
      "105    0\n",
      "Name: Diagnostico  enfermedad cardiaca, Length: 72, dtype: int64\n"
     ]
    }
   ],
   "source": [
    "# Creamos el modeo de regresion Logistica\n",
    "modelo_regresion = LogisticRegression(solver = \"liblinear\") \n",
    "modelo_regresion.fit (X_train , Y_train)\n",
    "\n",
    "# Realizamos la prediccion\n",
    "Prediccion = modelo_regresion.predict(X_test)\n",
    "\n",
    "# Imprimimos los valores de la variable dependiente de prueba\n",
    "print (Y_test)"
   ]
  },
  {
   "cell_type": "code",
   "execution_count": 120,
   "metadata": {},
   "outputs": [
    {
     "name": "stdout",
     "output_type": "stream",
     "text": [
      "[0 0 0 1 0 1 1 1 0 0 0 1 1 1 0 1 0 0 0 0 0 1 0 0 0 1 0 0 1 0 1 1 1 0 1 0 1\n",
      " 0 0 0 1 0 0 1 0 0 0 0 1 0 0 1 0 0 1 0 0 0 0 1 1 1 1 0 1 1 0 1 0 0 1 0]\n"
     ]
    }
   ],
   "source": [
    "# Mostramos la prediccion realizada por el modelo\n",
    "print (Prediccion)"
   ]
  },
  {
   "cell_type": "code",
   "execution_count": 121,
   "metadata": {},
   "outputs": [
    {
     "name": "stdout",
     "output_type": "stream",
     "text": [
      "              precision    recall  f1-score   support\n",
      "\n",
      "           0       0.84      0.92      0.88        39\n",
      "           1       0.90      0.79      0.84        33\n",
      "\n",
      "    accuracy                           0.86        72\n",
      "   macro avg       0.87      0.86      0.86        72\n",
      "weighted avg       0.86      0.86      0.86        72\n",
      "\n"
     ]
    }
   ],
   "source": [
    "print(classification_report(Y_test,Prediccion))"
   ]
  },
  {
   "cell_type": "code",
   "execution_count": 122,
   "metadata": {},
   "outputs": [
    {
     "data": {
      "text/plain": [
       "<sklearn.metrics._plot.confusion_matrix.ConfusionMatrixDisplay at 0x1b3f0b8d9a0>"
      ]
     },
     "execution_count": 122,
     "metadata": {},
     "output_type": "execute_result"
    },
    {
     "data": {
      "image/png": "[encoded data removed]",
      "text/plain": [
       "<Figure size 640x480 with 2 Axes>"
      ]
     },
     "metadata": {},
     "output_type": "display_data"
    }
   ],
   "source": [
    "# Creamos la matriz de confusion\n",
    "cm=confusion_matrix(Y_test,Prediccion)\n",
    "disp=metrics.ConfusionMatrixDisplay(confusion_matrix=cm)\n",
    "disp.plot()"
   ]
  },
  {
   "cell_type": "code",
   "execution_count": 123,
   "metadata": {},
   "outputs": [
    {
     "data": {
      "image/png": "[encoded data removed]",
      "text/plain": [
       "<Figure size 640x480 with 1 Axes>"
      ]
     },
     "metadata": {},
     "output_type": "display_data"
    }
   ],
   "source": [
    "# Creamos la curva ROC\n",
    "RocCurveDisplay.from_predictions(Y_test, Prediccion)\n",
    "plt.show()   "
   ]
  },
  {
   "cell_type": "code",
   "execution_count": null,
   "metadata": {},
   "outputs": [],
   "source": []
  }
 ],
 "metadata": {
  "kernelspec": {
   "display_name": "Python 3 (ipykernel)",
   "language": "python",
   "name": "python3"
  },
  "language_info": {
   "codemirror_mode": {
    "name": "ipython",
    "version": 3
   },
   "file_extension": ".py",
   "mimetype": "text/x-python",
   "name": "python",
   "nbconvert_exporter": "python",
   "pygments_lexer": "ipython3",
   "version": "3.11.7"
  }
 },
 "nbformat": 4,
 "nbformat_minor": 4
}
